{
 "cells": [
  {
   "cell_type": "markdown",
   "id": "296b3038",
   "metadata": {
    "_cell_guid": "eab3ec4f-2afe-46a1-80d2-f660b2142762",
    "_uuid": "689c59b9-ff21-409c-b722-1ad9fa9b7bc2",
    "papermill": {
     "duration": 0.034333,
     "end_time": "2021-08-16T06:41:02.765986",
     "exception": false,
     "start_time": "2021-08-16T06:41:02.731653",
     "status": "completed"
    },
    "tags": []
   },
   "source": [
    "# ClaRet - Retinal Scan Classification"
   ]
  },
  {
   "cell_type": "markdown",
   "id": "6ddf902a",
   "metadata": {
    "_cell_guid": "0f8594a9-b667-47be-a1a3-2e1e4a2978ce",
    "_uuid": "2860ea76-02e4-4f3e-93c3-f6a0d71e793f",
    "papermill": {
     "duration": 0.03294,
     "end_time": "2021-08-16T06:41:02.832205",
     "exception": false,
     "start_time": "2021-08-16T06:41:02.799265",
     "status": "completed"
    },
    "tags": []
   },
   "source": [
    "## Importing Libraries and Frameworks"
   ]
  },
  {
   "cell_type": "code",
   "execution_count": 1,
   "id": "01869de8",
   "metadata": {
    "_cell_guid": "25d6fbe9-696d-4978-a540-747cc2283bc6",
    "_uuid": "90771846-02b9-4e5c-956a-39e5cdf9c395",
    "collapsed": false,
    "execution": {
     "iopub.execute_input": "2021-08-16T06:41:02.911722Z",
     "iopub.status.busy": "2021-08-16T06:41:02.910783Z",
     "iopub.status.idle": "2021-08-16T06:41:06.791454Z",
     "shell.execute_reply": "2021-08-16T06:41:06.792578Z",
     "shell.execute_reply.started": "2021-08-15T09:48:47.670735Z"
    },
    "jupyter": {
     "outputs_hidden": false
    },
    "papermill": {
     "duration": 3.926477,
     "end_time": "2021-08-16T06:41:06.792950",
     "exception": false,
     "start_time": "2021-08-16T06:41:02.866473",
     "status": "completed"
    },
    "tags": []
   },
   "outputs": [
    {
     "name": "stdout",
     "output_type": "stream",
     "text": [
      "Libraries imported\n"
     ]
    }
   ],
   "source": [
    "import os \n",
    "import random\n",
    "import numpy as np\n",
    "\n",
    "import tensorflow as tf\n",
    "import tensorflow_addons as tfa\n",
    "from tensorflow.keras.preprocessing.image import ImageDataGenerator, load_img\n",
    "from tensorflow_addons.metrics import F1Score\n",
    "\n",
    "\n",
    "print(\"Libraries imported\")"
   ]
  },
  {
   "cell_type": "markdown",
   "id": "40d157ad",
   "metadata": {
    "_cell_guid": "f77e338d-929d-43d3-a07b-a5872b427833",
    "_uuid": "42498da0-51af-4181-b0f5-33a8e55ec781",
    "papermill": {
     "duration": 0.060458,
     "end_time": "2021-08-16T06:41:06.916728",
     "exception": false,
     "start_time": "2021-08-16T06:41:06.856270",
     "status": "completed"
    },
    "tags": []
   },
   "source": [
    "## Defining the master directory path"
   ]
  },
  {
   "cell_type": "code",
   "execution_count": 2,
   "id": "44374b2e",
   "metadata": {
    "_cell_guid": "29122ee3-26c2-436d-87b8-495ed0d37434",
    "_uuid": "e523daee-aca2-4061-a3fa-c2cd7822efe2",
    "execution": {
     "iopub.execute_input": "2021-08-16T06:41:07.041170Z",
     "iopub.status.busy": "2021-08-16T06:41:07.040430Z",
     "iopub.status.idle": "2021-08-16T06:41:07.068177Z",
     "shell.execute_reply": "2021-08-16T06:41:07.067783Z",
     "shell.execute_reply.started": "2021-08-15T09:48:52.366048Z"
    },
    "papermill": {
     "duration": 0.091898,
     "end_time": "2021-08-16T06:41:07.068316",
     "exception": false,
     "start_time": "2021-08-16T06:41:06.976418",
     "status": "completed"
    },
    "tags": []
   },
   "outputs": [
    {
     "data": {
      "text/plain": [
       "['val', '.DS_Store', 'test', 'train']"
      ]
     },
     "execution_count": 2,
     "metadata": {},
     "output_type": "execute_result"
    }
   ],
   "source": [
    "path = (\"../input/kermany2018/oct2017/OCT2017 \")\n",
    "os.listdir(path)"
   ]
  },
  {
   "cell_type": "markdown",
   "id": "ebbd2638",
   "metadata": {
    "_cell_guid": "213b08b3-5e23-498d-905d-df6030d3ed6f",
    "_uuid": "ef1fd6b0-3aab-4e05-a7dd-fcef72842eb0",
    "papermill": {
     "duration": 0.034363,
     "end_time": "2021-08-16T06:41:07.141002",
     "exception": false,
     "start_time": "2021-08-16T06:41:07.106639",
     "status": "completed"
    },
    "tags": []
   },
   "source": [
    "## Storing the path of the training, validation and testing directories"
   ]
  },
  {
   "cell_type": "markdown",
   "id": "41380eec",
   "metadata": {
    "_cell_guid": "8c4ba68c-7942-49a9-989c-8d4438800ae0",
    "_uuid": "7c703049-9268-47fe-ad39-b78955f477e1",
    "papermill": {
     "duration": 0.033838,
     "end_time": "2021-08-16T06:41:07.208829",
     "exception": false,
     "start_time": "2021-08-16T06:41:07.174991",
     "status": "completed"
    },
    "tags": []
   },
   "source": [
    "### Training Directory"
   ]
  },
  {
   "cell_type": "code",
   "execution_count": 3,
   "id": "cd027a25",
   "metadata": {
    "_cell_guid": "b9535964-c5dc-4471-8888-9388944c83a6",
    "_uuid": "da934f01-dbc7-4d84-a353-bd173dc4e63a",
    "collapsed": false,
    "execution": {
     "iopub.execute_input": "2021-08-16T06:41:07.281069Z",
     "iopub.status.busy": "2021-08-16T06:41:07.280513Z",
     "iopub.status.idle": "2021-08-16T06:41:07.291357Z",
     "shell.execute_reply": "2021-08-16T06:41:07.291716Z",
     "shell.execute_reply.started": "2021-08-15T09:48:52.39366Z"
    },
    "jupyter": {
     "outputs_hidden": false
    },
    "papermill": {
     "duration": 0.049037,
     "end_time": "2021-08-16T06:41:07.291847",
     "exception": false,
     "start_time": "2021-08-16T06:41:07.242810",
     "status": "completed"
    },
    "tags": []
   },
   "outputs": [
    {
     "data": {
      "text/plain": [
       "['DRUSEN', 'CNV', 'NORMAL', 'DME']"
      ]
     },
     "execution_count": 3,
     "metadata": {},
     "output_type": "execute_result"
    }
   ],
   "source": [
    "train_dir = path + '/train'\n",
    "os.listdir(train_dir)"
   ]
  },
  {
   "cell_type": "markdown",
   "id": "a7615f14",
   "metadata": {
    "_cell_guid": "d493433e-1c62-4a60-afb7-8540194311e9",
    "_uuid": "6d4d40a7-4f4e-438d-83ea-782e03291cc0",
    "papermill": {
     "duration": 0.034248,
     "end_time": "2021-08-16T06:41:07.360526",
     "exception": false,
     "start_time": "2021-08-16T06:41:07.326278",
     "status": "completed"
    },
    "tags": []
   },
   "source": [
    "### Validation Directory"
   ]
  },
  {
   "cell_type": "code",
   "execution_count": 4,
   "id": "4665efec",
   "metadata": {
    "_cell_guid": "55e51742-b0a2-4e7b-ad47-b0cacc927842",
    "_uuid": "73ffc4f2-0b61-4edb-adf0-d3eb49a0fd21",
    "collapsed": false,
    "execution": {
     "iopub.execute_input": "2021-08-16T06:41:07.432986Z",
     "iopub.status.busy": "2021-08-16T06:41:07.432430Z",
     "iopub.status.idle": "2021-08-16T06:41:07.445077Z",
     "shell.execute_reply": "2021-08-16T06:41:07.444600Z",
     "shell.execute_reply.started": "2021-08-15T09:48:52.410154Z"
    },
    "jupyter": {
     "outputs_hidden": false
    },
    "papermill": {
     "duration": 0.050211,
     "end_time": "2021-08-16T06:41:07.445193",
     "exception": false,
     "start_time": "2021-08-16T06:41:07.394982",
     "status": "completed"
    },
    "tags": []
   },
   "outputs": [
    {
     "data": {
      "text/plain": [
       "['DRUSEN', 'CNV', 'NORMAL', '.DS_Store', 'DME']"
      ]
     },
     "execution_count": 4,
     "metadata": {},
     "output_type": "execute_result"
    }
   ],
   "source": [
    "val_dir = path + '/val'\n",
    "os.listdir(val_dir)"
   ]
  },
  {
   "cell_type": "markdown",
   "id": "a2c23556",
   "metadata": {
    "_cell_guid": "faea872b-6e67-45b9-9149-8afe28a2a8df",
    "_uuid": "b21ab207-3bf6-4496-9630-0ea99d0d7966",
    "papermill": {
     "duration": 0.034706,
     "end_time": "2021-08-16T06:41:07.514484",
     "exception": false,
     "start_time": "2021-08-16T06:41:07.479778",
     "status": "completed"
    },
    "tags": []
   },
   "source": [
    "### Testing Directory"
   ]
  },
  {
   "cell_type": "code",
   "execution_count": 5,
   "id": "3ec5ad67",
   "metadata": {
    "_cell_guid": "91f0147b-fe71-4c81-b4c6-e520f21a5321",
    "_uuid": "6e88fc29-c106-4641-a1c9-0d92082a7405",
    "collapsed": false,
    "execution": {
     "iopub.execute_input": "2021-08-16T06:41:07.587399Z",
     "iopub.status.busy": "2021-08-16T06:41:07.586871Z",
     "iopub.status.idle": "2021-08-16T06:41:07.600453Z",
     "shell.execute_reply": "2021-08-16T06:41:07.600822Z",
     "shell.execute_reply.started": "2021-08-15T09:48:52.426022Z"
    },
    "jupyter": {
     "outputs_hidden": false
    },
    "papermill": {
     "duration": 0.051605,
     "end_time": "2021-08-16T06:41:07.600947",
     "exception": false,
     "start_time": "2021-08-16T06:41:07.549342",
     "status": "completed"
    },
    "tags": []
   },
   "outputs": [
    {
     "data": {
      "text/plain": [
       "['DRUSEN', 'CNV', 'NORMAL', '.DS_Store', 'DME']"
      ]
     },
     "execution_count": 5,
     "metadata": {},
     "output_type": "execute_result"
    }
   ],
   "source": [
    "test_dir = path + '/test'\n",
    "os.listdir(test_dir)"
   ]
  },
  {
   "cell_type": "markdown",
   "id": "186bd8df",
   "metadata": {
    "_cell_guid": "fb268145-198c-4c1b-9f22-f8e79769ceb7",
    "_uuid": "79961cf3-881c-42fe-b4e4-d6d312b68205",
    "papermill": {
     "duration": 0.034571,
     "end_time": "2021-08-16T06:41:07.670742",
     "exception": false,
     "start_time": "2021-08-16T06:41:07.636171",
     "status": "completed"
    },
    "tags": []
   },
   "source": [
    "## Defining The VGG19 model"
   ]
  },
  {
   "cell_type": "code",
   "execution_count": 6,
   "id": "bc60c7ef",
   "metadata": {
    "_cell_guid": "bd5d86c2-6aaa-4ba7-90b6-df11744ca82e",
    "_uuid": "c12d002f-f0f8-405c-aec2-7bf9320b5b90",
    "collapsed": false,
    "execution": {
     "iopub.execute_input": "2021-08-16T06:41:07.749343Z",
     "iopub.status.busy": "2021-08-16T06:41:07.748698Z",
     "iopub.status.idle": "2021-08-16T06:41:10.532300Z",
     "shell.execute_reply": "2021-08-16T06:41:10.531687Z",
     "shell.execute_reply.started": "2021-08-15T09:48:52.442869Z"
    },
    "jupyter": {
     "outputs_hidden": false
    },
    "papermill": {
     "duration": 2.82671,
     "end_time": "2021-08-16T06:41:10.532452",
     "exception": false,
     "start_time": "2021-08-16T06:41:07.705742",
     "status": "completed"
    },
    "tags": []
   },
   "outputs": [
    {
     "name": "stdout",
     "output_type": "stream",
     "text": [
      "Downloading data from https://storage.googleapis.com/tensorflow/keras-applications/vgg19/vgg19_weights_tf_dim_ordering_tf_kernels_notop.h5\n",
      "80142336/80134624 [==============================] - 0s 0us/step\n"
     ]
    }
   ],
   "source": [
    "vgg19 = tf.keras.applications.VGG19(\n",
    "    include_top = False,\n",
    "    weights = 'imagenet',\n",
    "    input_tensor = None,\n",
    "    input_shape = (150,150,3),\n",
    "    pooling  = None,\n",
    "    classes = 1000\n",
    ")"
   ]
  },
  {
   "cell_type": "markdown",
   "id": "9c7808ae",
   "metadata": {
    "_cell_guid": "cbf506ba-32e9-4141-80af-06e1e7f8ecb6",
    "_uuid": "bb4dd8de-7b3c-4800-838f-faca3566b96b",
    "papermill": {
     "duration": 0.037441,
     "end_time": "2021-08-16T06:41:10.608192",
     "exception": false,
     "start_time": "2021-08-16T06:41:10.570751",
     "status": "completed"
    },
    "tags": []
   },
   "source": [
    "## Defining the Transfer Learning Model Architecture - VGG19"
   ]
  },
  {
   "cell_type": "markdown",
   "id": "c49ea36f",
   "metadata": {
    "_cell_guid": "3ea4fbcc-2e84-464a-9fa7-876939703543",
    "_uuid": "0dd7a17a-53de-450e-aed6-12ecaacac04f",
    "papermill": {
     "duration": 0.037083,
     "end_time": "2021-08-16T06:41:10.682939",
     "exception": false,
     "start_time": "2021-08-16T06:41:10.645856",
     "status": "completed"
    },
    "tags": []
   },
   "source": [
    "### Not letting VGG19 train all over again"
   ]
  },
  {
   "cell_type": "code",
   "execution_count": 7,
   "id": "1201215e",
   "metadata": {
    "_cell_guid": "bfcc3cea-06b0-4984-b845-1159b6305b03",
    "_uuid": "344b1174-bbdc-4664-8986-c3905c63dd68",
    "collapsed": false,
    "execution": {
     "iopub.execute_input": "2021-08-16T06:41:10.762816Z",
     "iopub.status.busy": "2021-08-16T06:41:10.762238Z",
     "iopub.status.idle": "2021-08-16T06:41:10.765390Z",
     "shell.execute_reply": "2021-08-16T06:41:10.765955Z",
     "shell.execute_reply.started": "2021-08-15T09:48:55.3289Z"
    },
    "jupyter": {
     "outputs_hidden": false
    },
    "papermill": {
     "duration": 0.045705,
     "end_time": "2021-08-16T06:41:10.766126",
     "exception": false,
     "start_time": "2021-08-16T06:41:10.720421",
     "status": "completed"
    },
    "tags": []
   },
   "outputs": [
    {
     "name": "stdout",
     "output_type": "stream",
     "text": [
      "Trainable set to false\n"
     ]
    }
   ],
   "source": [
    "vgg19.trainable = False\n",
    "print(\"Trainable set to false\")"
   ]
  },
  {
   "cell_type": "markdown",
   "id": "f1a39366",
   "metadata": {
    "_cell_guid": "f3168304-841a-4b49-9845-b40d43fda98d",
    "_uuid": "435e00d7-5f64-4b37-921d-ddd575dc711a",
    "papermill": {
     "duration": 0.037311,
     "end_time": "2021-08-16T06:41:10.842001",
     "exception": false,
     "start_time": "2021-08-16T06:41:10.804690",
     "status": "completed"
    },
    "tags": []
   },
   "source": [
    "### Defining the layers"
   ]
  },
  {
   "cell_type": "code",
   "execution_count": 8,
   "id": "45f465d7",
   "metadata": {
    "_cell_guid": "fef6e802-f288-46c3-aea1-1a89d9a50d87",
    "_uuid": "c4dde284-0276-465b-bc08-0a5fa929aa39",
    "collapsed": false,
    "execution": {
     "iopub.execute_input": "2021-08-16T06:41:10.947953Z",
     "iopub.status.busy": "2021-08-16T06:41:10.947145Z",
     "iopub.status.idle": "2021-08-16T06:41:11.138092Z",
     "shell.execute_reply": "2021-08-16T06:41:11.137274Z",
     "shell.execute_reply.started": "2021-08-15T09:48:55.340159Z"
    },
    "jupyter": {
     "outputs_hidden": false
    },
    "papermill": {
     "duration": 0.257946,
     "end_time": "2021-08-16T06:41:11.138245",
     "exception": false,
     "start_time": "2021-08-16T06:41:10.880299",
     "status": "completed"
    },
    "tags": []
   },
   "outputs": [],
   "source": [
    "model_vgg = tf.keras.models.Sequential([\n",
    "    \n",
    "    vgg19,\n",
    "    \n",
    "    tf.keras.layers.Conv2D(filters = 256, kernel_size = (3, 3), padding = 'same'),\n",
    "    tf.keras.layers.ReLU(),\n",
    "    tf.keras.layers.Dense(units=1024,activation='relu'),\n",
    "    \n",
    "    tf.keras.layers.Dropout(0.3),\n",
    "    \n",
    "    tf.keras.layers.Conv2D(filters = 128, kernel_size = (3,3), padding = 'same'),\n",
    "    tf.keras.layers.ReLU(),\n",
    "    tf.keras.layers.Dense(units=512,activation='relu'),\n",
    "    \n",
    "    tf.keras.layers.Dropout(0.3),\n",
    "    \n",
    "    tf.keras.layers.Conv2D(filters = 64, kernel_size = (3,3), padding = 'same'),\n",
    "    tf.keras.layers.ReLU(),\n",
    "    tf.keras.layers.Dense(units=256,activation='relu'),\n",
    "    \n",
    "    tf.keras.layers.Dropout(0.3),\n",
    "    \n",
    "    tf.keras.layers.Conv2D(filters = 32, kernel_size = (3,3), padding = 'same'),\n",
    "    tf.keras.layers.ReLU(),\n",
    "    tf.keras.layers.Dense(units=128,activation='relu'),\n",
    "    \n",
    "    tf.keras.layers.Dropout(0.3),\n",
    "    \n",
    "    tf.keras.layers.Conv2D(filters = 16, kernel_size = (3,3), padding = 'same'),\n",
    "    tf.keras.layers.ReLU(),\n",
    "    tf.keras.layers.Flatten(),\n",
    "    tf.keras.layers.Dense(units=64,activation='relu'),\n",
    "    \n",
    "    tf.keras.layers.Dropout(0.3),\n",
    "    \n",
    "    tf.keras.layers.Dense(units = 4,activation = 'softmax')\n",
    "])"
   ]
  },
  {
   "cell_type": "markdown",
   "id": "c3375ac8",
   "metadata": {
    "papermill": {
     "duration": 0.037436,
     "end_time": "2021-08-16T06:41:11.213791",
     "exception": false,
     "start_time": "2021-08-16T06:41:11.176355",
     "status": "completed"
    },
    "tags": []
   },
   "source": [
    "## Model Compilation\n"
   ]
  },
  {
   "cell_type": "markdown",
   "id": "b0e1f2bb",
   "metadata": {
    "papermill": {
     "duration": 0.037756,
     "end_time": "2021-08-16T06:41:11.289130",
     "exception": false,
     "start_time": "2021-08-16T06:41:11.251374",
     "status": "completed"
    },
    "tags": []
   },
   "source": [
    "### Defining Metrics"
   ]
  },
  {
   "cell_type": "code",
   "execution_count": 9,
   "id": "d92988b9",
   "metadata": {
    "execution": {
     "iopub.execute_input": "2021-08-16T06:41:11.372840Z",
     "iopub.status.busy": "2021-08-16T06:41:11.372010Z",
     "iopub.status.idle": "2021-08-16T06:41:11.377762Z",
     "shell.execute_reply": "2021-08-16T06:41:11.377362Z",
     "shell.execute_reply.started": "2021-08-15T09:48:55.599163Z"
    },
    "papermill": {
     "duration": 0.051447,
     "end_time": "2021-08-16T06:41:11.377868",
     "exception": false,
     "start_time": "2021-08-16T06:41:11.326421",
     "status": "completed"
    },
    "tags": []
   },
   "outputs": [],
   "source": [
    "F1_Score = tfa.metrics.F1Score(num_classes=4, threshold=0.5)"
   ]
  },
  {
   "cell_type": "code",
   "execution_count": 10,
   "id": "b0ec44c5",
   "metadata": {
    "execution": {
     "iopub.execute_input": "2021-08-16T06:41:11.456608Z",
     "iopub.status.busy": "2021-08-16T06:41:11.455904Z",
     "iopub.status.idle": "2021-08-16T06:41:11.458597Z",
     "shell.execute_reply": "2021-08-16T06:41:11.458187Z",
     "shell.execute_reply.started": "2021-08-15T09:48:55.615514Z"
    },
    "papermill": {
     "duration": 0.043404,
     "end_time": "2021-08-16T06:41:11.458701",
     "exception": false,
     "start_time": "2021-08-16T06:41:11.415297",
     "status": "completed"
    },
    "tags": []
   },
   "outputs": [],
   "source": [
    "vgg_metrics = [\"accuracy\", F1_Score]"
   ]
  },
  {
   "cell_type": "markdown",
   "id": "928c15a6",
   "metadata": {
    "papermill": {
     "duration": 0.038012,
     "end_time": "2021-08-16T06:41:11.534240",
     "exception": false,
     "start_time": "2021-08-16T06:41:11.496228",
     "status": "completed"
    },
    "tags": []
   },
   "source": [
    "### Compiling the full model by addidng optimiser, loss and metrics"
   ]
  },
  {
   "cell_type": "code",
   "execution_count": 11,
   "id": "ab35c483",
   "metadata": {
    "_cell_guid": "2fc59d3c-d0e9-4d59-a1eb-ac3b2b228fcd",
    "_uuid": "786bb135-26c3-4ac2-81c0-495330577d65",
    "collapsed": false,
    "execution": {
     "iopub.execute_input": "2021-08-16T06:41:11.621932Z",
     "iopub.status.busy": "2021-08-16T06:41:11.621115Z",
     "iopub.status.idle": "2021-08-16T06:41:11.639737Z",
     "shell.execute_reply": "2021-08-16T06:41:11.639217Z",
     "shell.execute_reply.started": "2021-08-15T09:48:55.62087Z"
    },
    "jupyter": {
     "outputs_hidden": false
    },
    "papermill": {
     "duration": 0.067687,
     "end_time": "2021-08-16T06:41:11.639841",
     "exception": false,
     "start_time": "2021-08-16T06:41:11.572154",
     "status": "completed"
    },
    "tags": []
   },
   "outputs": [
    {
     "name": "stdout",
     "output_type": "stream",
     "text": [
      "Model: \"sequential\"\n",
      "_________________________________________________________________\n",
      "Layer (type)                 Output Shape              Param #   \n",
      "=================================================================\n",
      "vgg19 (Functional)           (None, 4, 4, 512)         20024384  \n",
      "_________________________________________________________________\n",
      "conv2d (Conv2D)              (None, 4, 4, 256)         1179904   \n",
      "_________________________________________________________________\n",
      "re_lu (ReLU)                 (None, 4, 4, 256)         0         \n",
      "_________________________________________________________________\n",
      "dense (Dense)                (None, 4, 4, 1024)        263168    \n",
      "_________________________________________________________________\n",
      "dropout (Dropout)            (None, 4, 4, 1024)        0         \n",
      "_________________________________________________________________\n",
      "conv2d_1 (Conv2D)            (None, 4, 4, 128)         1179776   \n",
      "_________________________________________________________________\n",
      "re_lu_1 (ReLU)               (None, 4, 4, 128)         0         \n",
      "_________________________________________________________________\n",
      "dense_1 (Dense)              (None, 4, 4, 512)         66048     \n",
      "_________________________________________________________________\n",
      "dropout_1 (Dropout)          (None, 4, 4, 512)         0         \n",
      "_________________________________________________________________\n",
      "conv2d_2 (Conv2D)            (None, 4, 4, 64)          294976    \n",
      "_________________________________________________________________\n",
      "re_lu_2 (ReLU)               (None, 4, 4, 64)          0         \n",
      "_________________________________________________________________\n",
      "dense_2 (Dense)              (None, 4, 4, 256)         16640     \n",
      "_________________________________________________________________\n",
      "dropout_2 (Dropout)          (None, 4, 4, 256)         0         \n",
      "_________________________________________________________________\n",
      "conv2d_3 (Conv2D)            (None, 4, 4, 32)          73760     \n",
      "_________________________________________________________________\n",
      "re_lu_3 (ReLU)               (None, 4, 4, 32)          0         \n",
      "_________________________________________________________________\n",
      "dense_3 (Dense)              (None, 4, 4, 128)         4224      \n",
      "_________________________________________________________________\n",
      "dropout_3 (Dropout)          (None, 4, 4, 128)         0         \n",
      "_________________________________________________________________\n",
      "conv2d_4 (Conv2D)            (None, 4, 4, 16)          18448     \n",
      "_________________________________________________________________\n",
      "re_lu_4 (ReLU)               (None, 4, 4, 16)          0         \n",
      "_________________________________________________________________\n",
      "flatten (Flatten)            (None, 256)               0         \n",
      "_________________________________________________________________\n",
      "dense_4 (Dense)              (None, 64)                16448     \n",
      "_________________________________________________________________\n",
      "dropout_4 (Dropout)          (None, 64)                0         \n",
      "_________________________________________________________________\n",
      "dense_5 (Dense)              (None, 4)                 260       \n",
      "=================================================================\n",
      "Total params: 23,138,036\n",
      "Trainable params: 3,113,652\n",
      "Non-trainable params: 20,024,384\n",
      "_________________________________________________________________\n"
     ]
    }
   ],
   "source": [
    "model_vgg.compile(optimizer = 'adam', loss = 'binary_crossentropy', metrics = vgg_metrics)\n",
    "model_vgg.summary()"
   ]
  },
  {
   "cell_type": "markdown",
   "id": "907e1f59",
   "metadata": {
    "papermill": {
     "duration": 0.038109,
     "end_time": "2021-08-16T06:41:11.715856",
     "exception": false,
     "start_time": "2021-08-16T06:41:11.677747",
     "status": "completed"
    },
    "tags": []
   },
   "source": [
    "## Rescaling Images and Defining generators"
   ]
  },
  {
   "cell_type": "markdown",
   "id": "415c091c",
   "metadata": {
    "papermill": {
     "duration": 0.037488,
     "end_time": "2021-08-16T06:41:11.790989",
     "exception": false,
     "start_time": "2021-08-16T06:41:11.753501",
     "status": "completed"
    },
    "tags": []
   },
   "source": [
    "### Training Dataset"
   ]
  },
  {
   "cell_type": "code",
   "execution_count": 12,
   "id": "be871375",
   "metadata": {
    "execution": {
     "iopub.execute_input": "2021-08-16T06:41:11.871408Z",
     "iopub.status.busy": "2021-08-16T06:41:11.870892Z",
     "iopub.status.idle": "2021-08-16T06:43:03.556363Z",
     "shell.execute_reply": "2021-08-16T06:43:03.556939Z",
     "shell.execute_reply.started": "2021-08-15T09:48:55.662885Z"
    },
    "papermill": {
     "duration": 111.728067,
     "end_time": "2021-08-16T06:43:03.557140",
     "exception": false,
     "start_time": "2021-08-16T06:41:11.829073",
     "status": "completed"
    },
    "tags": []
   },
   "outputs": [
    {
     "name": "stdout",
     "output_type": "stream",
     "text": [
      "Found 83484 images belonging to 4 classes.\n"
     ]
    }
   ],
   "source": [
    "train_datagen = ImageDataGenerator(rescale = 1./255)\n",
    "train_generator = train_datagen.flow_from_directory(train_dir, target_size = (150, 150), class_mode = 'categorical', batch_size = 500)"
   ]
  },
  {
   "cell_type": "markdown",
   "id": "43c05481",
   "metadata": {
    "papermill": {
     "duration": 0.038263,
     "end_time": "2021-08-16T06:43:03.635133",
     "exception": false,
     "start_time": "2021-08-16T06:43:03.596870",
     "status": "completed"
    },
    "tags": []
   },
   "source": [
    "### Validation Dataset"
   ]
  },
  {
   "cell_type": "code",
   "execution_count": 13,
   "id": "ed5e3e03",
   "metadata": {
    "execution": {
     "iopub.execute_input": "2021-08-16T06:43:03.717287Z",
     "iopub.status.busy": "2021-08-16T06:43:03.716629Z",
     "iopub.status.idle": "2021-08-16T06:43:03.824255Z",
     "shell.execute_reply": "2021-08-16T06:43:03.823527Z",
     "shell.execute_reply.started": "2021-08-15T09:50:44.751083Z"
    },
    "papermill": {
     "duration": 0.150563,
     "end_time": "2021-08-16T06:43:03.824427",
     "exception": false,
     "start_time": "2021-08-16T06:43:03.673864",
     "status": "completed"
    },
    "tags": []
   },
   "outputs": [
    {
     "name": "stdout",
     "output_type": "stream",
     "text": [
      "Found 32 images belonging to 4 classes.\n"
     ]
    }
   ],
   "source": [
    "validation_datagen = ImageDataGenerator(rescale = 1./255)\n",
    "validation_generator = validation_datagen.flow_from_directory(val_dir, target_size = (150, 150), class_mode = 'categorical', batch_size = 16)"
   ]
  },
  {
   "cell_type": "markdown",
   "id": "28f8c2bd",
   "metadata": {
    "papermill": {
     "duration": 0.038673,
     "end_time": "2021-08-16T06:43:03.902445",
     "exception": false,
     "start_time": "2021-08-16T06:43:03.863772",
     "status": "completed"
    },
    "tags": []
   },
   "source": [
    "### Testing Dataset"
   ]
  },
  {
   "cell_type": "code",
   "execution_count": 14,
   "id": "9c2a41ba",
   "metadata": {
    "execution": {
     "iopub.execute_input": "2021-08-16T06:43:03.986488Z",
     "iopub.status.busy": "2021-08-16T06:43:03.985797Z",
     "iopub.status.idle": "2021-08-16T06:43:04.297053Z",
     "shell.execute_reply": "2021-08-16T06:43:04.296424Z",
     "shell.execute_reply.started": "2021-08-15T09:50:44.861914Z"
    },
    "papermill": {
     "duration": 0.355329,
     "end_time": "2021-08-16T06:43:04.297228",
     "exception": false,
     "start_time": "2021-08-16T06:43:03.941899",
     "status": "completed"
    },
    "tags": []
   },
   "outputs": [
    {
     "name": "stdout",
     "output_type": "stream",
     "text": [
      "Found 968 images belonging to 4 classes.\n"
     ]
    }
   ],
   "source": [
    "test_datagen = ImageDataGenerator(rescale = 1./255)\n",
    "test_generator = test_datagen.flow_from_directory(test_dir, target_size = (150, 150), class_mode = 'categorical', batch_size = 50)"
   ]
  },
  {
   "cell_type": "markdown",
   "id": "039554de",
   "metadata": {
    "papermill": {
     "duration": 0.038815,
     "end_time": "2021-08-16T06:43:04.376293",
     "exception": false,
     "start_time": "2021-08-16T06:43:04.337478",
     "status": "completed"
    },
    "tags": []
   },
   "source": [
    "## Training the model"
   ]
  },
  {
   "cell_type": "code",
   "execution_count": 15,
   "id": "7be6aa1c",
   "metadata": {
    "execution": {
     "iopub.execute_input": "2021-08-16T06:43:04.460535Z",
     "iopub.status.busy": "2021-08-16T06:43:04.459979Z",
     "iopub.status.idle": "2021-08-16T10:46:08.899143Z",
     "shell.execute_reply": "2021-08-16T10:46:08.900389Z",
     "shell.execute_reply.started": "2021-08-15T09:50:45.074201Z"
    },
    "papermill": {
     "duration": 14584.484653,
     "end_time": "2021-08-16T10:46:08.900623",
     "exception": false,
     "start_time": "2021-08-16T06:43:04.415970",
     "status": "completed"
    },
    "tags": []
   },
   "outputs": [
    {
     "name": "stdout",
     "output_type": "stream",
     "text": [
      "Epoch 1/30\n",
      "166/166 [==============================] - 365s 2s/step - loss: 0.4356 - accuracy: 0.5783 - f1_score: 0.3065 - val_loss: 0.2538 - val_accuracy: 0.7500 - val_f1_score: 0.6127\n",
      "Epoch 2/30\n",
      "166/166 [==============================] - 479s 3s/step - loss: 0.2231 - accuracy: 0.8230 - f1_score: 0.6856 - val_loss: 0.1085 - val_accuracy: 0.9062 - val_f1_score: 0.9051\n",
      "Epoch 3/30\n",
      "166/166 [==============================] - 484s 3s/step - loss: 0.1843 - accuracy: 0.8607 - f1_score: 0.7765 - val_loss: 0.0844 - val_accuracy: 0.9062 - val_f1_score: 0.9198\n",
      "Epoch 4/30\n",
      "166/166 [==============================] - 486s 3s/step - loss: 0.1620 - accuracy: 0.8795 - f1_score: 0.8134 - val_loss: 0.0537 - val_accuracy: 0.9688 - val_f1_score: 0.9686\n",
      "Epoch 5/30\n",
      "166/166 [==============================] - 486s 3s/step - loss: 0.1536 - accuracy: 0.8849 - f1_score: 0.8207 - val_loss: 0.0413 - val_accuracy: 1.0000 - val_f1_score: 1.0000\n",
      "Epoch 6/30\n",
      "166/166 [==============================] - 487s 3s/step - loss: 0.1428 - accuracy: 0.8950 - f1_score: 0.8393 - val_loss: 0.0390 - val_accuracy: 0.9688 - val_f1_score: 0.9686\n",
      "Epoch 7/30\n",
      "166/166 [==============================] - 488s 3s/step - loss: 0.1333 - accuracy: 0.9006 - f1_score: 0.8489 - val_loss: 0.0497 - val_accuracy: 0.9688 - val_f1_score: 0.9686\n",
      "Epoch 8/30\n",
      "166/166 [==============================] - 489s 3s/step - loss: 0.1285 - accuracy: 0.9069 - f1_score: 0.8579 - val_loss: 0.0547 - val_accuracy: 0.9375 - val_f1_score: 0.9389\n",
      "Epoch 9/30\n",
      "166/166 [==============================] - 491s 3s/step - loss: 0.1218 - accuracy: 0.9104 - f1_score: 0.8649 - val_loss: 0.0459 - val_accuracy: 0.9688 - val_f1_score: 0.9686\n",
      "Epoch 10/30\n",
      "166/166 [==============================] - 494s 3s/step - loss: 0.1134 - accuracy: 0.9188 - f1_score: 0.8768 - val_loss: 0.0342 - val_accuracy: 1.0000 - val_f1_score: 1.0000\n",
      "Epoch 11/30\n",
      "166/166 [==============================] - 491s 3s/step - loss: 0.1108 - accuracy: 0.9202 - f1_score: 0.8783 - val_loss: 0.0660 - val_accuracy: 0.9375 - val_f1_score: 0.9374\n",
      "Epoch 12/30\n",
      "166/166 [==============================] - 494s 3s/step - loss: 0.1048 - accuracy: 0.9242 - f1_score: 0.8852 - val_loss: 0.0418 - val_accuracy: 0.9688 - val_f1_score: 0.9686\n",
      "Epoch 13/30\n",
      "166/166 [==============================] - 493s 3s/step - loss: 0.1017 - accuracy: 0.9274 - f1_score: 0.8896 - val_loss: 0.0663 - val_accuracy: 0.9688 - val_f1_score: 0.9686\n",
      "Epoch 14/30\n",
      "166/166 [==============================] - 494s 3s/step - loss: 0.0968 - accuracy: 0.9302 - f1_score: 0.8943 - val_loss: 0.0656 - val_accuracy: 0.9688 - val_f1_score: 0.9686\n",
      "Epoch 15/30\n",
      "166/166 [==============================] - 490s 3s/step - loss: 0.0934 - accuracy: 0.9333 - f1_score: 0.8993 - val_loss: 0.0625 - val_accuracy: 0.9688 - val_f1_score: 0.9686\n",
      "Epoch 16/30\n",
      "166/166 [==============================] - 490s 3s/step - loss: 0.0920 - accuracy: 0.9345 - f1_score: 0.9010 - val_loss: 0.0772 - val_accuracy: 0.9688 - val_f1_score: 0.9686\n",
      "Epoch 17/30\n",
      "166/166 [==============================] - 491s 3s/step - loss: 0.0889 - accuracy: 0.9347 - f1_score: 0.9013 - val_loss: 0.0742 - val_accuracy: 0.9688 - val_f1_score: 0.9686\n",
      "Epoch 18/30\n",
      "166/166 [==============================] - 491s 3s/step - loss: 0.0881 - accuracy: 0.9359 - f1_score: 0.9024 - val_loss: 0.0700 - val_accuracy: 0.9375 - val_f1_score: 0.9374\n",
      "Epoch 19/30\n",
      "166/166 [==============================] - 490s 3s/step - loss: 0.0809 - accuracy: 0.9421 - f1_score: 0.9126 - val_loss: 0.0525 - val_accuracy: 0.9688 - val_f1_score: 0.9686\n",
      "Epoch 20/30\n",
      "166/166 [==============================] - 491s 3s/step - loss: 0.0770 - accuracy: 0.9451 - f1_score: 0.9177 - val_loss: 0.0406 - val_accuracy: 0.9688 - val_f1_score: 0.9686\n",
      "Epoch 21/30\n",
      "166/166 [==============================] - 489s 3s/step - loss: 0.0811 - accuracy: 0.9416 - f1_score: 0.9128 - val_loss: 0.0487 - val_accuracy: 0.9688 - val_f1_score: 0.9686\n",
      "Epoch 22/30\n",
      "166/166 [==============================] - 489s 3s/step - loss: 0.0754 - accuracy: 0.9462 - f1_score: 0.9201 - val_loss: 0.0918 - val_accuracy: 0.9375 - val_f1_score: 0.9389\n",
      "Epoch 23/30\n",
      "166/166 [==============================] - 489s 3s/step - loss: 0.0697 - accuracy: 0.9505 - f1_score: 0.9256 - val_loss: 0.0940 - val_accuracy: 0.9375 - val_f1_score: 0.9374\n",
      "Epoch 24/30\n",
      "166/166 [==============================] - 488s 3s/step - loss: 0.0692 - accuracy: 0.9500 - f1_score: 0.9241 - val_loss: 0.0273 - val_accuracy: 0.9688 - val_f1_score: 0.9686\n",
      "Epoch 25/30\n",
      "166/166 [==============================] - 493s 3s/step - loss: 0.0647 - accuracy: 0.9539 - f1_score: 0.9308 - val_loss: 0.0909 - val_accuracy: 0.9688 - val_f1_score: 0.9686\n",
      "Epoch 26/30\n",
      "166/166 [==============================] - 492s 3s/step - loss: 0.0635 - accuracy: 0.9547 - f1_score: 0.9312 - val_loss: 0.0616 - val_accuracy: 0.9375 - val_f1_score: 0.9374\n",
      "Epoch 27/30\n",
      "166/166 [==============================] - 494s 3s/step - loss: 0.0632 - accuracy: 0.9542 - f1_score: 0.9318 - val_loss: 0.0697 - val_accuracy: 0.9375 - val_f1_score: 0.9374\n",
      "Epoch 28/30\n",
      "166/166 [==============================] - 494s 3s/step - loss: 0.0608 - accuracy: 0.9569 - f1_score: 0.9358 - val_loss: 0.1037 - val_accuracy: 0.9375 - val_f1_score: 0.9374\n",
      "Epoch 29/30\n",
      "166/166 [==============================] - 492s 3s/step - loss: 0.0605 - accuracy: 0.9564 - f1_score: 0.9337 - val_loss: 0.0500 - val_accuracy: 0.9375 - val_f1_score: 0.9374\n",
      "Epoch 30/30\n",
      "166/166 [==============================] - 490s 3s/step - loss: 0.0587 - accuracy: 0.9583 - f1_score: 0.9384 - val_loss: 0.1222 - val_accuracy: 0.9688 - val_f1_score: 0.9686\n"
     ]
    }
   ],
   "source": [
    "vgg_history = model_vgg.fit(\n",
    "    train_generator,\n",
    "    steps_per_epoch = (83484/500),\n",
    "    epochs = 30,\n",
    "    validation_data = validation_generator,\n",
    "    validation_steps = (32/16),\n",
    "    max_queue_size=100,\n",
    "    workers = 4 ,\n",
    "    use_multiprocessing=True,\n",
    "    verbose = 1)\n",
    "\n"
   ]
  },
  {
   "cell_type": "markdown",
   "id": "ee70204b",
   "metadata": {
    "papermill": {
     "duration": 5.831011,
     "end_time": "2021-08-16T10:46:21.466409",
     "exception": false,
     "start_time": "2021-08-16T10:46:15.635398",
     "status": "completed"
    },
    "tags": []
   },
   "source": [
    "## Testing the model"
   ]
  },
  {
   "cell_type": "code",
   "execution_count": 16,
   "id": "718da3f0",
   "metadata": {
    "execution": {
     "iopub.execute_input": "2021-08-16T10:46:35.312862Z",
     "iopub.status.busy": "2021-08-16T10:46:35.311643Z",
     "iopub.status.idle": "2021-08-16T10:46:57.322836Z",
     "shell.execute_reply": "2021-08-16T10:46:57.323711Z",
     "shell.execute_reply.started": "2021-08-15T12:28:45.521048Z"
    },
    "papermill": {
     "duration": 28.653596,
     "end_time": "2021-08-16T10:46:57.323974",
     "exception": false,
     "start_time": "2021-08-16T10:46:28.670378",
     "status": "completed"
    },
    "tags": []
   },
   "outputs": [
    {
     "name": "stdout",
     "output_type": "stream",
     "text": [
      "20/20 [==============================] - 21s 945ms/step - loss: 0.0686 - accuracy: 0.9628 - f1_score: 0.9628\n"
     ]
    }
   ],
   "source": [
    "testing_model = model_vgg.evaluate(test_generator)\n"
   ]
  },
  {
   "cell_type": "markdown",
   "id": "58f533dc",
   "metadata": {
    "papermill": {
     "duration": 7.112717,
     "end_time": "2021-08-16T10:47:11.301333",
     "exception": false,
     "start_time": "2021-08-16T10:47:04.188616",
     "status": "completed"
    },
    "tags": []
   },
   "source": [
    "## Compiling Results"
   ]
  },
  {
   "cell_type": "markdown",
   "id": "06ab2423",
   "metadata": {
    "papermill": {
     "duration": 7.521237,
     "end_time": "2021-08-16T10:47:25.403579",
     "exception": false,
     "start_time": "2021-08-16T10:47:17.882342",
     "status": "completed"
    },
    "tags": []
   },
   "source": [
    "### Storing accuracies"
   ]
  },
  {
   "cell_type": "markdown",
   "id": "c7eab9a5",
   "metadata": {
    "papermill": {
     "duration": 6.621548,
     "end_time": "2021-08-16T10:47:38.841644",
     "exception": false,
     "start_time": "2021-08-16T10:47:32.220096",
     "status": "completed"
    },
    "tags": []
   },
   "source": [
    "#### Storing the training accuracy"
   ]
  },
  {
   "cell_type": "code",
   "execution_count": 17,
   "id": "64e087e6",
   "metadata": {
    "execution": {
     "iopub.execute_input": "2021-08-16T10:47:52.812752Z",
     "iopub.status.busy": "2021-08-16T10:47:52.796725Z",
     "iopub.status.idle": "2021-08-16T10:47:53.185999Z",
     "shell.execute_reply": "2021-08-16T10:47:53.185299Z",
     "shell.execute_reply.started": "2021-08-15T12:29:07.570423Z"
    },
    "papermill": {
     "duration": 7.651835,
     "end_time": "2021-08-16T10:47:53.186162",
     "exception": false,
     "start_time": "2021-08-16T10:47:45.534327",
     "status": "completed"
    },
    "tags": []
   },
   "outputs": [],
   "source": [
    "training_accuracy = (vgg_history.history['accuracy'][-1]*100)"
   ]
  },
  {
   "cell_type": "markdown",
   "id": "f0fa0a63",
   "metadata": {
    "papermill": {
     "duration": 6.991692,
     "end_time": "2021-08-16T10:48:07.497426",
     "exception": false,
     "start_time": "2021-08-16T10:48:00.505734",
     "status": "completed"
    },
    "tags": []
   },
   "source": [
    "#### Storing the validation accuracy"
   ]
  },
  {
   "cell_type": "code",
   "execution_count": 18,
   "id": "85b35ff5",
   "metadata": {
    "execution": {
     "iopub.execute_input": "2021-08-16T10:48:20.812465Z",
     "iopub.status.busy": "2021-08-16T10:48:20.811608Z",
     "iopub.status.idle": "2021-08-16T10:48:20.814062Z",
     "shell.execute_reply": "2021-08-16T10:48:20.814623Z",
     "shell.execute_reply.started": "2021-08-15T12:29:07.582323Z"
    },
    "papermill": {
     "duration": 6.979034,
     "end_time": "2021-08-16T10:48:20.814820",
     "exception": false,
     "start_time": "2021-08-16T10:48:13.835786",
     "status": "completed"
    },
    "tags": []
   },
   "outputs": [],
   "source": [
    "validation_accuracy = (vgg_history.history['val_accuracy'][-1]*100)"
   ]
  },
  {
   "cell_type": "markdown",
   "id": "21141edc",
   "metadata": {
    "papermill": {
     "duration": 6.781494,
     "end_time": "2021-08-16T10:48:34.969380",
     "exception": false,
     "start_time": "2021-08-16T10:48:28.187886",
     "status": "completed"
    },
    "tags": []
   },
   "source": [
    "#### Storing the testing accuracy"
   ]
  },
  {
   "cell_type": "code",
   "execution_count": 19,
   "id": "23c9662a",
   "metadata": {
    "execution": {
     "iopub.execute_input": "2021-08-16T10:48:49.120194Z",
     "iopub.status.busy": "2021-08-16T10:48:49.119345Z",
     "iopub.status.idle": "2021-08-16T10:48:49.141146Z",
     "shell.execute_reply": "2021-08-16T10:48:49.140276Z",
     "shell.execute_reply.started": "2021-08-15T12:29:07.601369Z"
    },
    "papermill": {
     "duration": 7.320562,
     "end_time": "2021-08-16T10:48:49.141395",
     "exception": false,
     "start_time": "2021-08-16T10:48:41.820833",
     "status": "completed"
    },
    "tags": []
   },
   "outputs": [],
   "source": [
    "testing_accuracy = testing_model[1]*100"
   ]
  },
  {
   "cell_type": "markdown",
   "id": "a79bc400",
   "metadata": {
    "papermill": {
     "duration": 7.797148,
     "end_time": "2021-08-16T10:49:03.693715",
     "exception": false,
     "start_time": "2021-08-16T10:48:55.896567",
     "status": "completed"
    },
    "tags": []
   },
   "source": [
    "## Storing Loss\n"
   ]
  },
  {
   "cell_type": "markdown",
   "id": "bf1fd4cc",
   "metadata": {
    "papermill": {
     "duration": 6.52111,
     "end_time": "2021-08-16T10:49:17.068422",
     "exception": false,
     "start_time": "2021-08-16T10:49:10.547312",
     "status": "completed"
    },
    "tags": []
   },
   "source": [
    "#### Storing the Training Loss"
   ]
  },
  {
   "cell_type": "code",
   "execution_count": 20,
   "id": "52a41a52",
   "metadata": {
    "execution": {
     "iopub.execute_input": "2021-08-16T10:49:28.776052Z",
     "iopub.status.busy": "2021-08-16T10:49:28.775199Z",
     "iopub.status.idle": "2021-08-16T10:49:28.777327Z",
     "shell.execute_reply": "2021-08-16T10:49:28.776743Z",
     "shell.execute_reply.started": "2021-08-15T12:29:07.617878Z"
    },
    "papermill": {
     "duration": 4.847456,
     "end_time": "2021-08-16T10:49:28.777482",
     "exception": false,
     "start_time": "2021-08-16T10:49:23.930026",
     "status": "completed"
    },
    "tags": []
   },
   "outputs": [],
   "source": [
    "training_loss = (vgg_history.history['loss'][-1]*100)"
   ]
  },
  {
   "cell_type": "markdown",
   "id": "caf82ed1",
   "metadata": {
    "papermill": {
     "duration": 1.912846,
     "end_time": "2021-08-16T10:49:32.939890",
     "exception": false,
     "start_time": "2021-08-16T10:49:31.027044",
     "status": "completed"
    },
    "tags": []
   },
   "source": [
    "#### Storing the Validation Loss"
   ]
  },
  {
   "cell_type": "code",
   "execution_count": 21,
   "id": "43036e31",
   "metadata": {
    "execution": {
     "iopub.execute_input": "2021-08-16T10:49:35.718185Z",
     "iopub.status.busy": "2021-08-16T10:49:35.717335Z",
     "iopub.status.idle": "2021-08-16T10:49:35.719559Z",
     "shell.execute_reply": "2021-08-16T10:49:35.719950Z",
     "shell.execute_reply.started": "2021-08-15T12:29:07.632712Z"
    },
    "papermill": {
     "duration": 1.394508,
     "end_time": "2021-08-16T10:49:35.720136",
     "exception": false,
     "start_time": "2021-08-16T10:49:34.325628",
     "status": "completed"
    },
    "tags": []
   },
   "outputs": [],
   "source": [
    "validation_loss = (vgg_history.history['val_loss'][-1]*100)"
   ]
  },
  {
   "cell_type": "markdown",
   "id": "ce4100ce",
   "metadata": {
    "papermill": {
     "duration": 1.375012,
     "end_time": "2021-08-16T10:49:38.490617",
     "exception": false,
     "start_time": "2021-08-16T10:49:37.115605",
     "status": "completed"
    },
    "tags": []
   },
   "source": [
    "#### Storing the Training Loss"
   ]
  },
  {
   "cell_type": "code",
   "execution_count": 22,
   "id": "2ab4932a",
   "metadata": {
    "execution": {
     "iopub.execute_input": "2021-08-16T10:49:41.201164Z",
     "iopub.status.busy": "2021-08-16T10:49:41.200226Z",
     "iopub.status.idle": "2021-08-16T10:49:41.203117Z",
     "shell.execute_reply": "2021-08-16T10:49:41.202726Z",
     "shell.execute_reply.started": "2021-08-15T12:29:07.648546Z"
    },
    "papermill": {
     "duration": 1.381638,
     "end_time": "2021-08-16T10:49:41.203289",
     "exception": false,
     "start_time": "2021-08-16T10:49:39.821651",
     "status": "completed"
    },
    "tags": []
   },
   "outputs": [],
   "source": [
    "testing_loss = testing_model[0]*100"
   ]
  },
  {
   "cell_type": "markdown",
   "id": "cb52983b",
   "metadata": {
    "papermill": {
     "duration": 1.640684,
     "end_time": "2021-08-16T10:49:44.222118",
     "exception": false,
     "start_time": "2021-08-16T10:49:42.581434",
     "status": "completed"
    },
    "tags": []
   },
   "source": [
    "## Storing F1 Scores"
   ]
  },
  {
   "cell_type": "markdown",
   "id": "00342401",
   "metadata": {
    "papermill": {
     "duration": 1.341497,
     "end_time": "2021-08-16T10:49:46.914408",
     "exception": false,
     "start_time": "2021-08-16T10:49:45.572911",
     "status": "completed"
    },
    "tags": []
   },
   "source": [
    "#### Storing the Training F1 Score"
   ]
  },
  {
   "cell_type": "code",
   "execution_count": 23,
   "id": "0d446996",
   "metadata": {
    "execution": {
     "iopub.execute_input": "2021-08-16T10:49:49.615295Z",
     "iopub.status.busy": "2021-08-16T10:49:49.614442Z",
     "iopub.status.idle": "2021-08-16T10:49:49.617010Z",
     "shell.execute_reply": "2021-08-16T10:49:49.616618Z",
     "shell.execute_reply.started": "2021-08-15T12:30:14.194401Z"
    },
    "papermill": {
     "duration": 1.354624,
     "end_time": "2021-08-16T10:49:49.617123",
     "exception": false,
     "start_time": "2021-08-16T10:49:48.262499",
     "status": "completed"
    },
    "tags": []
   },
   "outputs": [],
   "source": [
    "f1_score = (vgg_history.history['f1_score'][-1]*100)"
   ]
  },
  {
   "cell_type": "markdown",
   "id": "cb8afc78",
   "metadata": {
    "papermill": {
     "duration": 1.345749,
     "end_time": "2021-08-16T10:49:52.311418",
     "exception": false,
     "start_time": "2021-08-16T10:49:50.965669",
     "status": "completed"
    },
    "tags": []
   },
   "source": [
    "#### Storing the Validation F1 Score"
   ]
  },
  {
   "cell_type": "code",
   "execution_count": 24,
   "id": "b4eb496b",
   "metadata": {
    "execution": {
     "iopub.execute_input": "2021-08-16T10:49:55.324821Z",
     "iopub.status.busy": "2021-08-16T10:49:55.323949Z",
     "iopub.status.idle": "2021-08-16T10:49:55.326724Z",
     "shell.execute_reply": "2021-08-16T10:49:55.326289Z",
     "shell.execute_reply.started": "2021-08-15T12:30:16.699329Z"
    },
    "papermill": {
     "duration": 1.516535,
     "end_time": "2021-08-16T10:49:55.326836",
     "exception": false,
     "start_time": "2021-08-16T10:49:53.810301",
     "status": "completed"
    },
    "tags": []
   },
   "outputs": [],
   "source": [
    "val_f1_score = (vgg_history.history['val_f1_score'][-1]*100)"
   ]
  },
  {
   "cell_type": "markdown",
   "id": "2b66314a",
   "metadata": {
    "papermill": {
     "duration": 1.37005,
     "end_time": "2021-08-16T10:49:58.044909",
     "exception": false,
     "start_time": "2021-08-16T10:49:56.674859",
     "status": "completed"
    },
    "tags": []
   },
   "source": [
    "#### Storing the Testing F1 Score"
   ]
  },
  {
   "cell_type": "code",
   "execution_count": 25,
   "id": "b801a9a3",
   "metadata": {
    "execution": {
     "iopub.execute_input": "2021-08-16T10:50:00.810719Z",
     "iopub.status.busy": "2021-08-16T10:50:00.809882Z",
     "iopub.status.idle": "2021-08-16T10:50:00.812606Z",
     "shell.execute_reply": "2021-08-16T10:50:00.812182Z",
     "shell.execute_reply.started": "2021-08-15T12:33:33.285834Z"
    },
    "papermill": {
     "duration": 1.377237,
     "end_time": "2021-08-16T10:50:00.812718",
     "exception": false,
     "start_time": "2021-08-16T10:49:59.435481",
     "status": "completed"
    },
    "tags": []
   },
   "outputs": [],
   "source": [
    "testing_f1_score = (testing_model[2])"
   ]
  },
  {
   "cell_type": "markdown",
   "id": "b2b8505e",
   "metadata": {
    "papermill": {
     "duration": 1.408021,
     "end_time": "2021-08-16T10:50:03.576449",
     "exception": false,
     "start_time": "2021-08-16T10:50:02.168428",
     "status": "completed"
    },
    "tags": []
   },
   "source": [
    "## Compiled Result"
   ]
  },
  {
   "cell_type": "markdown",
   "id": "cad6ac34",
   "metadata": {
    "papermill": {
     "duration": 1.351612,
     "end_time": "2021-08-16T10:50:06.532894",
     "exception": false,
     "start_time": "2021-08-16T10:50:05.181282",
     "status": "completed"
    },
    "tags": []
   },
   "source": [
    "### Accuracy"
   ]
  },
  {
   "cell_type": "code",
   "execution_count": 26,
   "id": "245784bd",
   "metadata": {
    "execution": {
     "iopub.execute_input": "2021-08-16T10:50:09.706452Z",
     "iopub.status.busy": "2021-08-16T10:50:09.705582Z",
     "iopub.status.idle": "2021-08-16T10:50:09.709332Z",
     "shell.execute_reply": "2021-08-16T10:50:09.707143Z",
     "shell.execute_reply.started": "2021-08-15T12:29:07.692303Z"
    },
    "papermill": {
     "duration": 1.829768,
     "end_time": "2021-08-16T10:50:09.709495",
     "exception": false,
     "start_time": "2021-08-16T10:50:07.879727",
     "status": "completed"
    },
    "tags": []
   },
   "outputs": [
    {
     "name": "stdout",
     "output_type": "stream",
     "text": [
      "Training Accuracy : 95.72612643241882 %\n",
      "Validation Accuracy : 96.875 %\n",
      "Testing Accuracy : 96.28099203109741 %\n"
     ]
    }
   ],
   "source": [
    "print(\"Training Accuracy : \" + str(training_accuracy) + \" %\")\n",
    "print(\"Validation Accuracy : \" + str(validation_accuracy) + \" %\")\n",
    "print(\"Testing Accuracy : \" + str(testing_accuracy) + \" %\")"
   ]
  },
  {
   "cell_type": "markdown",
   "id": "0a3e7347",
   "metadata": {
    "papermill": {
     "duration": 1.35527,
     "end_time": "2021-08-16T10:50:12.421948",
     "exception": false,
     "start_time": "2021-08-16T10:50:11.066678",
     "status": "completed"
    },
    "tags": []
   },
   "source": [
    "### Loss"
   ]
  },
  {
   "cell_type": "code",
   "execution_count": 27,
   "id": "386cb382",
   "metadata": {
    "execution": {
     "iopub.execute_input": "2021-08-16T10:50:15.148003Z",
     "iopub.status.busy": "2021-08-16T10:50:15.147230Z",
     "iopub.status.idle": "2021-08-16T10:50:15.150835Z",
     "shell.execute_reply": "2021-08-16T10:50:15.151426Z",
     "shell.execute_reply.started": "2021-08-15T12:29:07.713658Z"
    },
    "papermill": {
     "duration": 1.370874,
     "end_time": "2021-08-16T10:50:15.151586",
     "exception": false,
     "start_time": "2021-08-16T10:50:13.780712",
     "status": "completed"
    },
    "tags": []
   },
   "outputs": [
    {
     "name": "stdout",
     "output_type": "stream",
     "text": [
      "Training Loss : 5.998558923602104 %\n",
      "Validation Loss : 12.220136821269989 %\n",
      "Testing Loss : 6.864471733570099 %\n"
     ]
    }
   ],
   "source": [
    "print(\"Training Loss : \" + str(training_loss) + \" %\")\n",
    "print(\"Validation Loss : \" + str(validation_loss) + \" %\")\n",
    "print(\"Testing Loss : \" + str(testing_loss) + \" %\")"
   ]
  },
  {
   "cell_type": "markdown",
   "id": "b796c605",
   "metadata": {
    "papermill": {
     "duration": 1.352383,
     "end_time": "2021-08-16T10:50:18.166350",
     "exception": false,
     "start_time": "2021-08-16T10:50:16.813967",
     "status": "completed"
    },
    "tags": []
   },
   "source": [
    "### F1 Scores"
   ]
  },
  {
   "cell_type": "code",
   "execution_count": 28,
   "id": "da34b8c8",
   "metadata": {
    "execution": {
     "iopub.execute_input": "2021-08-16T10:50:20.893063Z",
     "iopub.status.busy": "2021-08-16T10:50:20.892254Z",
     "iopub.status.idle": "2021-08-16T10:50:20.895522Z",
     "shell.execute_reply": "2021-08-16T10:50:20.896046Z",
     "shell.execute_reply.started": "2021-08-15T12:33:36.304345Z"
    },
    "papermill": {
     "duration": 1.37866,
     "end_time": "2021-08-16T10:50:20.896197",
     "exception": false,
     "start_time": "2021-08-16T10:50:19.517537",
     "status": "completed"
    },
    "tags": []
   },
   "outputs": [
    {
     "name": "stdout",
     "output_type": "stream",
     "text": [
      "F1 Score : [97.99427  94.347534 85.68152  96.32771 ]\n",
      "Validation F1 Score : [ 94.11765   93.333336 100.       100.      ]\n",
      "Testing F1 Score : [0.9508841  0.97468346 0.9462366  0.9795082 ]\n"
     ]
    }
   ],
   "source": [
    "print(\"F1 Score : \" + str(f1_score))\n",
    "print(\"Validation F1 Score : \" + str(val_f1_score))\n",
    "print(\"Testing F1 Score : \" + str(testing_f1_score))"
   ]
  }
 ],
 "metadata": {
  "kernelspec": {
   "display_name": "Python 3",
   "language": "python",
   "name": "python3"
  },
  "language_info": {
   "codemirror_mode": {
    "name": "ipython",
    "version": 3
   },
   "file_extension": ".py",
   "mimetype": "text/x-python",
   "name": "python",
   "nbconvert_exporter": "python",
   "pygments_lexer": "ipython3",
   "version": "3.7.10"
  },
  "papermill": {
   "default_parameters": {},
   "duration": 14968.113253,
   "end_time": "2021-08-16T10:50:24.684350",
   "environment_variables": {},
   "exception": null,
   "input_path": "__notebook__.ipynb",
   "output_path": "__notebook__.ipynb",
   "parameters": {},
   "start_time": "2021-08-16T06:40:56.571097",
   "version": "2.3.3"
  }
 },
 "nbformat": 4,
 "nbformat_minor": 5
}
